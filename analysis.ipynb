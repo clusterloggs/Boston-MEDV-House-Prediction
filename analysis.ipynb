{
 "cells": [
  {
   "cell_type": "code",
   "execution_count": 1,
   "id": "c7de8e73",
   "metadata": {},
   "outputs": [],
   "source": [
    "import pandas as pd\n",
    "import numpy as np\n",
    "import matplotlib.pyplot as plt\n",
    "%matplotlib inline"
   ]
  },
  {
   "cell_type": "markdown",
   "id": "9a5202e1",
   "metadata": {},
   "source": [
    "# Load the dataset"
   ]
  },
  {
   "cell_type": "code",
   "execution_count": 2,
   "id": "1c450396",
   "metadata": {},
   "outputs": [],
   "source": [
    "data_url = \"http://lib.stat.cmu.edu/datasets/boston\"\n",
    "raw_df = pd.read_csv(data_url, sep=\"\\s+\", skiprows=22, header=None)\n",
    "data = np.hstack([raw_df.values[::2, :], raw_df.values[1::2, :2]])\n",
    "target = raw_df.values[1::2, 2]\n",
    "\n",
    "# Convert to DataFrame\n",
    "column_names = [\n",
    "    'CRIM', 'ZN', 'INDUS', 'CHAS', 'NOX', 'RM',\n",
    "    'AGE', 'DIS', 'RAD', 'TAX', 'PTRATIO', 'B', 'LSTAT'\n",
    "]\n",
    "boston = pd.DataFrame(data, columns=column_names)\n",
    "boston['MEDV'] = target  # Target variable\n"
   ]
  },
  {
   "cell_type": "code",
   "execution_count": 3,
   "id": "ef36c801",
   "metadata": {},
   "outputs": [
    {
     "name": "stdout",
     "output_type": "stream",
     "text": [
      "<class 'pandas.core.frame.DataFrame'>\n",
      "RangeIndex: 506 entries, 0 to 505\n",
      "Data columns (total 14 columns):\n",
      " #   Column   Non-Null Count  Dtype  \n",
      "---  ------   --------------  -----  \n",
      " 0   CRIM     506 non-null    float64\n",
      " 1   ZN       506 non-null    float64\n",
      " 2   INDUS    506 non-null    float64\n",
      " 3   CHAS     506 non-null    float64\n",
      " 4   NOX      506 non-null    float64\n",
      " 5   RM       506 non-null    float64\n",
      " 6   AGE      506 non-null    float64\n",
      " 7   DIS      506 non-null    float64\n",
      " 8   RAD      506 non-null    float64\n",
      " 9   TAX      506 non-null    float64\n",
      " 10  PTRATIO  506 non-null    float64\n",
      " 11  B        506 non-null    float64\n",
      " 12  LSTAT    506 non-null    float64\n",
      " 13  MEDV     506 non-null    float64\n",
      "dtypes: float64(14)\n",
      "memory usage: 55.5 KB\n"
     ]
    }
   ],
   "source": [
    "boston.info()"
   ]
  },
  {
   "cell_type": "markdown",
   "id": "063bf3ce",
   "metadata": {},
   "source": [
    " Variables in order:\n",
    " - CRIM     per capita crime rate by town\n",
    " - ZN       proportion of residential land zoned for lots over 25,000 sq.ft.\n",
    " - INDUS    proportion of non-retail business acres per town\n",
    " - CHAS     Charles River dummy variable (= 1 if tract bounds river; 0 otherwise)\n",
    " - NOX      nitric oxides concentration (parts per 10 million)\n",
    " - RM       average number of rooms per dwelling\n",
    " - AGE      proportion of owner-occupied units built prior to 1940\n",
    " - DIS      weighted distances to five Boston employment centres\n",
    " - RAD      index of accessibility to radial highways\n",
    " - TAX      full-value property-tax rate per $10,000\n",
    " - PTRATIO  pupil-teacher ratio by town\n",
    " - B        1000(Bk - 0.63)^2 where Bk is the proportion of blacks by town\n",
    " - LSTAT    % lower status of the population\n",
    " - MEDV     Median value of owner-occupied homes in $1000's"
   ]
  },
  {
   "cell_type": "code",
   "execution_count": 4,
   "id": "5dc17182",
   "metadata": {},
   "outputs": [
    {
     "data": {
      "application/vnd.microsoft.datawrangler.viewer.v0+json": {
       "columns": [
        {
         "name": "index",
         "rawType": "int64",
         "type": "integer"
        },
        {
         "name": "CRIM",
         "rawType": "float64",
         "type": "float"
        },
        {
         "name": "ZN",
         "rawType": "float64",
         "type": "float"
        },
        {
         "name": "INDUS",
         "rawType": "float64",
         "type": "float"
        },
        {
         "name": "CHAS",
         "rawType": "float64",
         "type": "float"
        },
        {
         "name": "NOX",
         "rawType": "float64",
         "type": "float"
        },
        {
         "name": "RM",
         "rawType": "float64",
         "type": "float"
        },
        {
         "name": "AGE",
         "rawType": "float64",
         "type": "float"
        },
        {
         "name": "DIS",
         "rawType": "float64",
         "type": "float"
        },
        {
         "name": "RAD",
         "rawType": "float64",
         "type": "float"
        },
        {
         "name": "TAX",
         "rawType": "float64",
         "type": "float"
        },
        {
         "name": "PTRATIO",
         "rawType": "float64",
         "type": "float"
        },
        {
         "name": "B",
         "rawType": "float64",
         "type": "float"
        },
        {
         "name": "LSTAT",
         "rawType": "float64",
         "type": "float"
        },
        {
         "name": "MEDV",
         "rawType": "float64",
         "type": "float"
        }
       ],
       "ref": "cb7f6924-4975-497a-bffc-b04b123f0df7",
       "rows": [
        [
         "0",
         "0.00632",
         "18.0",
         "2.31",
         "0.0",
         "0.538",
         "6.575",
         "65.2",
         "4.09",
         "1.0",
         "296.0",
         "15.3",
         "396.9",
         "4.98",
         "24.0"
        ],
        [
         "1",
         "0.02731",
         "0.0",
         "7.07",
         "0.0",
         "0.469",
         "6.421",
         "78.9",
         "4.9671",
         "2.0",
         "242.0",
         "17.8",
         "396.9",
         "9.14",
         "21.6"
        ],
        [
         "2",
         "0.02729",
         "0.0",
         "7.07",
         "0.0",
         "0.469",
         "7.185",
         "61.1",
         "4.9671",
         "2.0",
         "242.0",
         "17.8",
         "392.83",
         "4.03",
         "34.7"
        ],
        [
         "3",
         "0.03237",
         "0.0",
         "2.18",
         "0.0",
         "0.458",
         "6.998",
         "45.8",
         "6.0622",
         "3.0",
         "222.0",
         "18.7",
         "394.63",
         "2.94",
         "33.4"
        ],
        [
         "4",
         "0.06905",
         "0.0",
         "2.18",
         "0.0",
         "0.458",
         "7.147",
         "54.2",
         "6.0622",
         "3.0",
         "222.0",
         "18.7",
         "396.9",
         "5.33",
         "36.2"
        ]
       ],
       "shape": {
        "columns": 14,
        "rows": 5
       }
      },
      "text/html": [
       "<div>\n",
       "<style scoped>\n",
       "    .dataframe tbody tr th:only-of-type {\n",
       "        vertical-align: middle;\n",
       "    }\n",
       "\n",
       "    .dataframe tbody tr th {\n",
       "        vertical-align: top;\n",
       "    }\n",
       "\n",
       "    .dataframe thead th {\n",
       "        text-align: right;\n",
       "    }\n",
       "</style>\n",
       "<table border=\"1\" class=\"dataframe\">\n",
       "  <thead>\n",
       "    <tr style=\"text-align: right;\">\n",
       "      <th></th>\n",
       "      <th>CRIM</th>\n",
       "      <th>ZN</th>\n",
       "      <th>INDUS</th>\n",
       "      <th>CHAS</th>\n",
       "      <th>NOX</th>\n",
       "      <th>RM</th>\n",
       "      <th>AGE</th>\n",
       "      <th>DIS</th>\n",
       "      <th>RAD</th>\n",
       "      <th>TAX</th>\n",
       "      <th>PTRATIO</th>\n",
       "      <th>B</th>\n",
       "      <th>LSTAT</th>\n",
       "      <th>MEDV</th>\n",
       "    </tr>\n",
       "  </thead>\n",
       "  <tbody>\n",
       "    <tr>\n",
       "      <th>0</th>\n",
       "      <td>0.00632</td>\n",
       "      <td>18.0</td>\n",
       "      <td>2.31</td>\n",
       "      <td>0.0</td>\n",
       "      <td>0.538</td>\n",
       "      <td>6.575</td>\n",
       "      <td>65.2</td>\n",
       "      <td>4.0900</td>\n",
       "      <td>1.0</td>\n",
       "      <td>296.0</td>\n",
       "      <td>15.3</td>\n",
       "      <td>396.90</td>\n",
       "      <td>4.98</td>\n",
       "      <td>24.0</td>\n",
       "    </tr>\n",
       "    <tr>\n",
       "      <th>1</th>\n",
       "      <td>0.02731</td>\n",
       "      <td>0.0</td>\n",
       "      <td>7.07</td>\n",
       "      <td>0.0</td>\n",
       "      <td>0.469</td>\n",
       "      <td>6.421</td>\n",
       "      <td>78.9</td>\n",
       "      <td>4.9671</td>\n",
       "      <td>2.0</td>\n",
       "      <td>242.0</td>\n",
       "      <td>17.8</td>\n",
       "      <td>396.90</td>\n",
       "      <td>9.14</td>\n",
       "      <td>21.6</td>\n",
       "    </tr>\n",
       "    <tr>\n",
       "      <th>2</th>\n",
       "      <td>0.02729</td>\n",
       "      <td>0.0</td>\n",
       "      <td>7.07</td>\n",
       "      <td>0.0</td>\n",
       "      <td>0.469</td>\n",
       "      <td>7.185</td>\n",
       "      <td>61.1</td>\n",
       "      <td>4.9671</td>\n",
       "      <td>2.0</td>\n",
       "      <td>242.0</td>\n",
       "      <td>17.8</td>\n",
       "      <td>392.83</td>\n",
       "      <td>4.03</td>\n",
       "      <td>34.7</td>\n",
       "    </tr>\n",
       "    <tr>\n",
       "      <th>3</th>\n",
       "      <td>0.03237</td>\n",
       "      <td>0.0</td>\n",
       "      <td>2.18</td>\n",
       "      <td>0.0</td>\n",
       "      <td>0.458</td>\n",
       "      <td>6.998</td>\n",
       "      <td>45.8</td>\n",
       "      <td>6.0622</td>\n",
       "      <td>3.0</td>\n",
       "      <td>222.0</td>\n",
       "      <td>18.7</td>\n",
       "      <td>394.63</td>\n",
       "      <td>2.94</td>\n",
       "      <td>33.4</td>\n",
       "    </tr>\n",
       "    <tr>\n",
       "      <th>4</th>\n",
       "      <td>0.06905</td>\n",
       "      <td>0.0</td>\n",
       "      <td>2.18</td>\n",
       "      <td>0.0</td>\n",
       "      <td>0.458</td>\n",
       "      <td>7.147</td>\n",
       "      <td>54.2</td>\n",
       "      <td>6.0622</td>\n",
       "      <td>3.0</td>\n",
       "      <td>222.0</td>\n",
       "      <td>18.7</td>\n",
       "      <td>396.90</td>\n",
       "      <td>5.33</td>\n",
       "      <td>36.2</td>\n",
       "    </tr>\n",
       "  </tbody>\n",
       "</table>\n",
       "</div>"
      ],
      "text/plain": [
       "      CRIM    ZN  INDUS  CHAS    NOX     RM   AGE     DIS  RAD    TAX  \\\n",
       "0  0.00632  18.0   2.31   0.0  0.538  6.575  65.2  4.0900  1.0  296.0   \n",
       "1  0.02731   0.0   7.07   0.0  0.469  6.421  78.9  4.9671  2.0  242.0   \n",
       "2  0.02729   0.0   7.07   0.0  0.469  7.185  61.1  4.9671  2.0  242.0   \n",
       "3  0.03237   0.0   2.18   0.0  0.458  6.998  45.8  6.0622  3.0  222.0   \n",
       "4  0.06905   0.0   2.18   0.0  0.458  7.147  54.2  6.0622  3.0  222.0   \n",
       "\n",
       "   PTRATIO       B  LSTAT  MEDV  \n",
       "0     15.3  396.90   4.98  24.0  \n",
       "1     17.8  396.90   9.14  21.6  \n",
       "2     17.8  392.83   4.03  34.7  \n",
       "3     18.7  394.63   2.94  33.4  \n",
       "4     18.7  396.90   5.33  36.2  "
      ]
     },
     "execution_count": 4,
     "metadata": {},
     "output_type": "execute_result"
    }
   ],
   "source": [
    "boston.head()"
   ]
  },
  {
   "cell_type": "code",
   "execution_count": 5,
   "id": "18a7d0dd",
   "metadata": {},
   "outputs": [
    {
     "data": {
      "application/vnd.microsoft.datawrangler.viewer.v0+json": {
       "columns": [
        {
         "name": "index",
         "rawType": "object",
         "type": "string"
        },
        {
         "name": "CRIM",
         "rawType": "float64",
         "type": "float"
        },
        {
         "name": "ZN",
         "rawType": "float64",
         "type": "float"
        },
        {
         "name": "INDUS",
         "rawType": "float64",
         "type": "float"
        },
        {
         "name": "CHAS",
         "rawType": "float64",
         "type": "float"
        },
        {
         "name": "NOX",
         "rawType": "float64",
         "type": "float"
        },
        {
         "name": "RM",
         "rawType": "float64",
         "type": "float"
        },
        {
         "name": "AGE",
         "rawType": "float64",
         "type": "float"
        },
        {
         "name": "DIS",
         "rawType": "float64",
         "type": "float"
        },
        {
         "name": "RAD",
         "rawType": "float64",
         "type": "float"
        },
        {
         "name": "TAX",
         "rawType": "float64",
         "type": "float"
        },
        {
         "name": "PTRATIO",
         "rawType": "float64",
         "type": "float"
        },
        {
         "name": "B",
         "rawType": "float64",
         "type": "float"
        },
        {
         "name": "LSTAT",
         "rawType": "float64",
         "type": "float"
        },
        {
         "name": "MEDV",
         "rawType": "float64",
         "type": "float"
        }
       ],
       "ref": "dd4afd0e-0ac2-4014-98bb-ad9cff48650c",
       "rows": [
        [
         "count",
         "506.0",
         "506.0",
         "506.0",
         "506.0",
         "506.0",
         "506.0",
         "506.0",
         "506.0",
         "506.0",
         "506.0",
         "506.0",
         "506.0",
         "506.0",
         "506.0"
        ],
        [
         "mean",
         "3.6135",
         "11.3636",
         "11.1368",
         "0.0692",
         "0.5547",
         "6.2846",
         "68.5749",
         "3.795",
         "9.5494",
         "408.2372",
         "18.4555",
         "356.674",
         "12.6531",
         "22.5328"
        ],
        [
         "std",
         "8.6015",
         "23.3225",
         "6.8604",
         "0.254",
         "0.1159",
         "0.7026",
         "28.1489",
         "2.1057",
         "8.7073",
         "168.5371",
         "2.1649",
         "91.2949",
         "7.1411",
         "9.1971"
        ],
        [
         "min",
         "0.0063",
         "0.0",
         "0.46",
         "0.0",
         "0.385",
         "3.561",
         "2.9",
         "1.1296",
         "1.0",
         "187.0",
         "12.6",
         "0.32",
         "1.73",
         "5.0"
        ],
        [
         "25%",
         "0.082",
         "0.0",
         "5.19",
         "0.0",
         "0.449",
         "5.8855",
         "45.025",
         "2.1002",
         "4.0",
         "279.0",
         "17.4",
         "375.3775",
         "6.95",
         "17.025"
        ],
        [
         "50%",
         "0.2565",
         "0.0",
         "9.69",
         "0.0",
         "0.538",
         "6.2085",
         "77.5",
         "3.2074",
         "5.0",
         "330.0",
         "19.05",
         "391.44",
         "11.36",
         "21.2"
        ],
        [
         "75%",
         "3.6771",
         "12.5",
         "18.1",
         "0.0",
         "0.624",
         "6.6235",
         "94.075",
         "5.1884",
         "24.0",
         "666.0",
         "20.2",
         "396.225",
         "16.955",
         "25.0"
        ],
        [
         "max",
         "88.9762",
         "100.0",
         "27.74",
         "1.0",
         "0.871",
         "8.78",
         "100.0",
         "12.1265",
         "24.0",
         "711.0",
         "22.0",
         "396.9",
         "37.97",
         "50.0"
        ]
       ],
       "shape": {
        "columns": 14,
        "rows": 8
       }
      },
      "text/html": [
       "<div>\n",
       "<style scoped>\n",
       "    .dataframe tbody tr th:only-of-type {\n",
       "        vertical-align: middle;\n",
       "    }\n",
       "\n",
       "    .dataframe tbody tr th {\n",
       "        vertical-align: top;\n",
       "    }\n",
       "\n",
       "    .dataframe thead th {\n",
       "        text-align: right;\n",
       "    }\n",
       "</style>\n",
       "<table border=\"1\" class=\"dataframe\">\n",
       "  <thead>\n",
       "    <tr style=\"text-align: right;\">\n",
       "      <th></th>\n",
       "      <th>CRIM</th>\n",
       "      <th>ZN</th>\n",
       "      <th>INDUS</th>\n",
       "      <th>CHAS</th>\n",
       "      <th>NOX</th>\n",
       "      <th>RM</th>\n",
       "      <th>AGE</th>\n",
       "      <th>DIS</th>\n",
       "      <th>RAD</th>\n",
       "      <th>TAX</th>\n",
       "      <th>PTRATIO</th>\n",
       "      <th>B</th>\n",
       "      <th>LSTAT</th>\n",
       "      <th>MEDV</th>\n",
       "    </tr>\n",
       "  </thead>\n",
       "  <tbody>\n",
       "    <tr>\n",
       "      <th>count</th>\n",
       "      <td>506.0000</td>\n",
       "      <td>506.0000</td>\n",
       "      <td>506.0000</td>\n",
       "      <td>506.0000</td>\n",
       "      <td>506.0000</td>\n",
       "      <td>506.0000</td>\n",
       "      <td>506.0000</td>\n",
       "      <td>506.0000</td>\n",
       "      <td>506.0000</td>\n",
       "      <td>506.0000</td>\n",
       "      <td>506.0000</td>\n",
       "      <td>506.0000</td>\n",
       "      <td>506.0000</td>\n",
       "      <td>506.0000</td>\n",
       "    </tr>\n",
       "    <tr>\n",
       "      <th>mean</th>\n",
       "      <td>3.6135</td>\n",
       "      <td>11.3636</td>\n",
       "      <td>11.1368</td>\n",
       "      <td>0.0692</td>\n",
       "      <td>0.5547</td>\n",
       "      <td>6.2846</td>\n",
       "      <td>68.5749</td>\n",
       "      <td>3.7950</td>\n",
       "      <td>9.5494</td>\n",
       "      <td>408.2372</td>\n",
       "      <td>18.4555</td>\n",
       "      <td>356.6740</td>\n",
       "      <td>12.6531</td>\n",
       "      <td>22.5328</td>\n",
       "    </tr>\n",
       "    <tr>\n",
       "      <th>std</th>\n",
       "      <td>8.6015</td>\n",
       "      <td>23.3225</td>\n",
       "      <td>6.8604</td>\n",
       "      <td>0.2540</td>\n",
       "      <td>0.1159</td>\n",
       "      <td>0.7026</td>\n",
       "      <td>28.1489</td>\n",
       "      <td>2.1057</td>\n",
       "      <td>8.7073</td>\n",
       "      <td>168.5371</td>\n",
       "      <td>2.1649</td>\n",
       "      <td>91.2949</td>\n",
       "      <td>7.1411</td>\n",
       "      <td>9.1971</td>\n",
       "    </tr>\n",
       "    <tr>\n",
       "      <th>min</th>\n",
       "      <td>0.0063</td>\n",
       "      <td>0.0000</td>\n",
       "      <td>0.4600</td>\n",
       "      <td>0.0000</td>\n",
       "      <td>0.3850</td>\n",
       "      <td>3.5610</td>\n",
       "      <td>2.9000</td>\n",
       "      <td>1.1296</td>\n",
       "      <td>1.0000</td>\n",
       "      <td>187.0000</td>\n",
       "      <td>12.6000</td>\n",
       "      <td>0.3200</td>\n",
       "      <td>1.7300</td>\n",
       "      <td>5.0000</td>\n",
       "    </tr>\n",
       "    <tr>\n",
       "      <th>25%</th>\n",
       "      <td>0.0820</td>\n",
       "      <td>0.0000</td>\n",
       "      <td>5.1900</td>\n",
       "      <td>0.0000</td>\n",
       "      <td>0.4490</td>\n",
       "      <td>5.8855</td>\n",
       "      <td>45.0250</td>\n",
       "      <td>2.1002</td>\n",
       "      <td>4.0000</td>\n",
       "      <td>279.0000</td>\n",
       "      <td>17.4000</td>\n",
       "      <td>375.3775</td>\n",
       "      <td>6.9500</td>\n",
       "      <td>17.0250</td>\n",
       "    </tr>\n",
       "    <tr>\n",
       "      <th>50%</th>\n",
       "      <td>0.2565</td>\n",
       "      <td>0.0000</td>\n",
       "      <td>9.6900</td>\n",
       "      <td>0.0000</td>\n",
       "      <td>0.5380</td>\n",
       "      <td>6.2085</td>\n",
       "      <td>77.5000</td>\n",
       "      <td>3.2074</td>\n",
       "      <td>5.0000</td>\n",
       "      <td>330.0000</td>\n",
       "      <td>19.0500</td>\n",
       "      <td>391.4400</td>\n",
       "      <td>11.3600</td>\n",
       "      <td>21.2000</td>\n",
       "    </tr>\n",
       "    <tr>\n",
       "      <th>75%</th>\n",
       "      <td>3.6771</td>\n",
       "      <td>12.5000</td>\n",
       "      <td>18.1000</td>\n",
       "      <td>0.0000</td>\n",
       "      <td>0.6240</td>\n",
       "      <td>6.6235</td>\n",
       "      <td>94.0750</td>\n",
       "      <td>5.1884</td>\n",
       "      <td>24.0000</td>\n",
       "      <td>666.0000</td>\n",
       "      <td>20.2000</td>\n",
       "      <td>396.2250</td>\n",
       "      <td>16.9550</td>\n",
       "      <td>25.0000</td>\n",
       "    </tr>\n",
       "    <tr>\n",
       "      <th>max</th>\n",
       "      <td>88.9762</td>\n",
       "      <td>100.0000</td>\n",
       "      <td>27.7400</td>\n",
       "      <td>1.0000</td>\n",
       "      <td>0.8710</td>\n",
       "      <td>8.7800</td>\n",
       "      <td>100.0000</td>\n",
       "      <td>12.1265</td>\n",
       "      <td>24.0000</td>\n",
       "      <td>711.0000</td>\n",
       "      <td>22.0000</td>\n",
       "      <td>396.9000</td>\n",
       "      <td>37.9700</td>\n",
       "      <td>50.0000</td>\n",
       "    </tr>\n",
       "  </tbody>\n",
       "</table>\n",
       "</div>"
      ],
      "text/plain": [
       "           CRIM        ZN     INDUS      CHAS       NOX        RM       AGE  \\\n",
       "count  506.0000  506.0000  506.0000  506.0000  506.0000  506.0000  506.0000   \n",
       "mean     3.6135   11.3636   11.1368    0.0692    0.5547    6.2846   68.5749   \n",
       "std      8.6015   23.3225    6.8604    0.2540    0.1159    0.7026   28.1489   \n",
       "min      0.0063    0.0000    0.4600    0.0000    0.3850    3.5610    2.9000   \n",
       "25%      0.0820    0.0000    5.1900    0.0000    0.4490    5.8855   45.0250   \n",
       "50%      0.2565    0.0000    9.6900    0.0000    0.5380    6.2085   77.5000   \n",
       "75%      3.6771   12.5000   18.1000    0.0000    0.6240    6.6235   94.0750   \n",
       "max     88.9762  100.0000   27.7400    1.0000    0.8710    8.7800  100.0000   \n",
       "\n",
       "            DIS       RAD       TAX   PTRATIO         B     LSTAT      MEDV  \n",
       "count  506.0000  506.0000  506.0000  506.0000  506.0000  506.0000  506.0000  \n",
       "mean     3.7950    9.5494  408.2372   18.4555  356.6740   12.6531   22.5328  \n",
       "std      2.1057    8.7073  168.5371    2.1649   91.2949    7.1411    9.1971  \n",
       "min      1.1296    1.0000  187.0000   12.6000    0.3200    1.7300    5.0000  \n",
       "25%      2.1002    4.0000  279.0000   17.4000  375.3775    6.9500   17.0250  \n",
       "50%      3.2074    5.0000  330.0000   19.0500  391.4400   11.3600   21.2000  \n",
       "75%      5.1884   24.0000  666.0000   20.2000  396.2250   16.9550   25.0000  \n",
       "max     12.1265   24.0000  711.0000   22.0000  396.9000   37.9700   50.0000  "
      ]
     },
     "execution_count": 5,
     "metadata": {},
     "output_type": "execute_result"
    }
   ],
   "source": [
    "# check the dataset summary\n",
    "round((boston.describe()),4)"
   ]
  },
  {
   "cell_type": "markdown",
   "id": "aa99fbda",
   "metadata": {},
   "source": [
    "# check the missing values"
   ]
  },
  {
   "cell_type": "code",
   "execution_count": 6,
   "id": "74305c0d",
   "metadata": {},
   "outputs": [
    {
     "data": {
      "application/vnd.microsoft.datawrangler.viewer.v0+json": {
       "columns": [
        {
         "name": "index",
         "rawType": "object",
         "type": "string"
        },
        {
         "name": "0",
         "rawType": "int64",
         "type": "integer"
        }
       ],
       "ref": "485fae9e-6477-4af2-9942-cec9c8b0eb35",
       "rows": [
        [
         "CRIM",
         "0"
        ],
        [
         "ZN",
         "0"
        ],
        [
         "INDUS",
         "0"
        ],
        [
         "CHAS",
         "0"
        ],
        [
         "NOX",
         "0"
        ],
        [
         "RM",
         "0"
        ],
        [
         "AGE",
         "0"
        ],
        [
         "DIS",
         "0"
        ],
        [
         "RAD",
         "0"
        ],
        [
         "TAX",
         "0"
        ],
        [
         "PTRATIO",
         "0"
        ],
        [
         "B",
         "0"
        ],
        [
         "LSTAT",
         "0"
        ],
        [
         "MEDV",
         "0"
        ]
       ],
       "shape": {
        "columns": 1,
        "rows": 14
       }
      },
      "text/plain": [
       "CRIM       0\n",
       "ZN         0\n",
       "INDUS      0\n",
       "CHAS       0\n",
       "NOX        0\n",
       "RM         0\n",
       "AGE        0\n",
       "DIS        0\n",
       "RAD        0\n",
       "TAX        0\n",
       "PTRATIO    0\n",
       "B          0\n",
       "LSTAT      0\n",
       "MEDV       0\n",
       "dtype: int64"
      ]
     },
     "execution_count": 6,
     "metadata": {},
     "output_type": "execute_result"
    }
   ],
   "source": [
    "boston.isnull().sum()"
   ]
  },
  {
   "cell_type": "markdown",
   "id": "b5d6b260",
   "metadata": {},
   "source": [
    "# EDA"
   ]
  },
  {
   "cell_type": "code",
   "execution_count": 7,
   "id": "d6a67d66",
   "metadata": {},
   "outputs": [
    {
     "data": {
      "application/vnd.microsoft.datawrangler.viewer.v0+json": {
       "columns": [
        {
         "name": "index",
         "rawType": "object",
         "type": "string"
        },
        {
         "name": "CRIM",
         "rawType": "float64",
         "type": "float"
        },
        {
         "name": "ZN",
         "rawType": "float64",
         "type": "float"
        },
        {
         "name": "INDUS",
         "rawType": "float64",
         "type": "float"
        },
        {
         "name": "CHAS",
         "rawType": "float64",
         "type": "float"
        },
        {
         "name": "NOX",
         "rawType": "float64",
         "type": "float"
        },
        {
         "name": "RM",
         "rawType": "float64",
         "type": "float"
        },
        {
         "name": "AGE",
         "rawType": "float64",
         "type": "float"
        },
        {
         "name": "DIS",
         "rawType": "float64",
         "type": "float"
        },
        {
         "name": "RAD",
         "rawType": "float64",
         "type": "float"
        },
        {
         "name": "TAX",
         "rawType": "float64",
         "type": "float"
        },
        {
         "name": "PTRATIO",
         "rawType": "float64",
         "type": "float"
        },
        {
         "name": "B",
         "rawType": "float64",
         "type": "float"
        },
        {
         "name": "LSTAT",
         "rawType": "float64",
         "type": "float"
        },
        {
         "name": "MEDV",
         "rawType": "float64",
         "type": "float"
        }
       ],
       "ref": "52b3e244-390e-4a63-9696-971e72542ed2",
       "rows": [
        [
         "CRIM",
         "1.0",
         "-0.2005",
         "0.4066",
         "-0.0559",
         "0.421",
         "-0.2192",
         "0.3527",
         "-0.3797",
         "0.6255",
         "0.5828",
         "0.2899",
         "-0.3851",
         "0.4556",
         "-0.3883"
        ],
        [
         "ZN",
         "-0.2005",
         "1.0",
         "-0.5338",
         "-0.0427",
         "-0.5166",
         "0.312",
         "-0.5695",
         "0.6644",
         "-0.3119",
         "-0.3146",
         "-0.3917",
         "0.1755",
         "-0.413",
         "0.3604"
        ],
        [
         "INDUS",
         "0.4066",
         "-0.5338",
         "1.0",
         "0.0629",
         "0.7637",
         "-0.3917",
         "0.6448",
         "-0.708",
         "0.5951",
         "0.7208",
         "0.3832",
         "-0.357",
         "0.6038",
         "-0.4837"
        ],
        [
         "CHAS",
         "-0.0559",
         "-0.0427",
         "0.0629",
         "1.0",
         "0.0912",
         "0.0913",
         "0.0865",
         "-0.0992",
         "-0.0074",
         "-0.0356",
         "-0.1215",
         "0.0488",
         "-0.0539",
         "0.1753"
        ],
        [
         "NOX",
         "0.421",
         "-0.5166",
         "0.7637",
         "0.0912",
         "1.0",
         "-0.3022",
         "0.7315",
         "-0.7692",
         "0.6114",
         "0.668",
         "0.1889",
         "-0.3801",
         "0.5909",
         "-0.4273"
        ],
        [
         "RM",
         "-0.2192",
         "0.312",
         "-0.3917",
         "0.0913",
         "-0.3022",
         "1.0",
         "-0.2403",
         "0.2052",
         "-0.2098",
         "-0.292",
         "-0.3555",
         "0.1281",
         "-0.6138",
         "0.6954"
        ],
        [
         "AGE",
         "0.3527",
         "-0.5695",
         "0.6448",
         "0.0865",
         "0.7315",
         "-0.2403",
         "1.0",
         "-0.7479",
         "0.456",
         "0.5065",
         "0.2615",
         "-0.2735",
         "0.6023",
         "-0.377"
        ],
        [
         "DIS",
         "-0.3797",
         "0.6644",
         "-0.708",
         "-0.0992",
         "-0.7692",
         "0.2052",
         "-0.7479",
         "1.0",
         "-0.4946",
         "-0.5344",
         "-0.2325",
         "0.2915",
         "-0.497",
         "0.2499"
        ],
        [
         "RAD",
         "0.6255",
         "-0.3119",
         "0.5951",
         "-0.0074",
         "0.6114",
         "-0.2098",
         "0.456",
         "-0.4946",
         "1.0",
         "0.9102",
         "0.4647",
         "-0.4444",
         "0.4887",
         "-0.3816"
        ],
        [
         "TAX",
         "0.5828",
         "-0.3146",
         "0.7208",
         "-0.0356",
         "0.668",
         "-0.292",
         "0.5065",
         "-0.5344",
         "0.9102",
         "1.0",
         "0.4609",
         "-0.4418",
         "0.544",
         "-0.4685"
        ],
        [
         "PTRATIO",
         "0.2899",
         "-0.3917",
         "0.3832",
         "-0.1215",
         "0.1889",
         "-0.3555",
         "0.2615",
         "-0.2325",
         "0.4647",
         "0.4609",
         "1.0",
         "-0.1774",
         "0.374",
         "-0.5078"
        ],
        [
         "B",
         "-0.3851",
         "0.1755",
         "-0.357",
         "0.0488",
         "-0.3801",
         "0.1281",
         "-0.2735",
         "0.2915",
         "-0.4444",
         "-0.4418",
         "-0.1774",
         "1.0",
         "-0.3661",
         "0.3335"
        ],
        [
         "LSTAT",
         "0.4556",
         "-0.413",
         "0.6038",
         "-0.0539",
         "0.5909",
         "-0.6138",
         "0.6023",
         "-0.497",
         "0.4887",
         "0.544",
         "0.374",
         "-0.3661",
         "1.0",
         "-0.7377"
        ],
        [
         "MEDV",
         "-0.3883",
         "0.3604",
         "-0.4837",
         "0.1753",
         "-0.4273",
         "0.6954",
         "-0.377",
         "0.2499",
         "-0.3816",
         "-0.4685",
         "-0.5078",
         "0.3335",
         "-0.7377",
         "1.0"
        ]
       ],
       "shape": {
        "columns": 14,
        "rows": 14
       }
      },
      "text/html": [
       "<div>\n",
       "<style scoped>\n",
       "    .dataframe tbody tr th:only-of-type {\n",
       "        vertical-align: middle;\n",
       "    }\n",
       "\n",
       "    .dataframe tbody tr th {\n",
       "        vertical-align: top;\n",
       "    }\n",
       "\n",
       "    .dataframe thead th {\n",
       "        text-align: right;\n",
       "    }\n",
       "</style>\n",
       "<table border=\"1\" class=\"dataframe\">\n",
       "  <thead>\n",
       "    <tr style=\"text-align: right;\">\n",
       "      <th></th>\n",
       "      <th>CRIM</th>\n",
       "      <th>ZN</th>\n",
       "      <th>INDUS</th>\n",
       "      <th>CHAS</th>\n",
       "      <th>NOX</th>\n",
       "      <th>RM</th>\n",
       "      <th>AGE</th>\n",
       "      <th>DIS</th>\n",
       "      <th>RAD</th>\n",
       "      <th>TAX</th>\n",
       "      <th>PTRATIO</th>\n",
       "      <th>B</th>\n",
       "      <th>LSTAT</th>\n",
       "      <th>MEDV</th>\n",
       "    </tr>\n",
       "  </thead>\n",
       "  <tbody>\n",
       "    <tr>\n",
       "      <th>CRIM</th>\n",
       "      <td>1.0000</td>\n",
       "      <td>-0.2005</td>\n",
       "      <td>0.4066</td>\n",
       "      <td>-0.0559</td>\n",
       "      <td>0.4210</td>\n",
       "      <td>-0.2192</td>\n",
       "      <td>0.3527</td>\n",
       "      <td>-0.3797</td>\n",
       "      <td>0.6255</td>\n",
       "      <td>0.5828</td>\n",
       "      <td>0.2899</td>\n",
       "      <td>-0.3851</td>\n",
       "      <td>0.4556</td>\n",
       "      <td>-0.3883</td>\n",
       "    </tr>\n",
       "    <tr>\n",
       "      <th>ZN</th>\n",
       "      <td>-0.2005</td>\n",
       "      <td>1.0000</td>\n",
       "      <td>-0.5338</td>\n",
       "      <td>-0.0427</td>\n",
       "      <td>-0.5166</td>\n",
       "      <td>0.3120</td>\n",
       "      <td>-0.5695</td>\n",
       "      <td>0.6644</td>\n",
       "      <td>-0.3119</td>\n",
       "      <td>-0.3146</td>\n",
       "      <td>-0.3917</td>\n",
       "      <td>0.1755</td>\n",
       "      <td>-0.4130</td>\n",
       "      <td>0.3604</td>\n",
       "    </tr>\n",
       "    <tr>\n",
       "      <th>INDUS</th>\n",
       "      <td>0.4066</td>\n",
       "      <td>-0.5338</td>\n",
       "      <td>1.0000</td>\n",
       "      <td>0.0629</td>\n",
       "      <td>0.7637</td>\n",
       "      <td>-0.3917</td>\n",
       "      <td>0.6448</td>\n",
       "      <td>-0.7080</td>\n",
       "      <td>0.5951</td>\n",
       "      <td>0.7208</td>\n",
       "      <td>0.3832</td>\n",
       "      <td>-0.3570</td>\n",
       "      <td>0.6038</td>\n",
       "      <td>-0.4837</td>\n",
       "    </tr>\n",
       "    <tr>\n",
       "      <th>CHAS</th>\n",
       "      <td>-0.0559</td>\n",
       "      <td>-0.0427</td>\n",
       "      <td>0.0629</td>\n",
       "      <td>1.0000</td>\n",
       "      <td>0.0912</td>\n",
       "      <td>0.0913</td>\n",
       "      <td>0.0865</td>\n",
       "      <td>-0.0992</td>\n",
       "      <td>-0.0074</td>\n",
       "      <td>-0.0356</td>\n",
       "      <td>-0.1215</td>\n",
       "      <td>0.0488</td>\n",
       "      <td>-0.0539</td>\n",
       "      <td>0.1753</td>\n",
       "    </tr>\n",
       "    <tr>\n",
       "      <th>NOX</th>\n",
       "      <td>0.4210</td>\n",
       "      <td>-0.5166</td>\n",
       "      <td>0.7637</td>\n",
       "      <td>0.0912</td>\n",
       "      <td>1.0000</td>\n",
       "      <td>-0.3022</td>\n",
       "      <td>0.7315</td>\n",
       "      <td>-0.7692</td>\n",
       "      <td>0.6114</td>\n",
       "      <td>0.6680</td>\n",
       "      <td>0.1889</td>\n",
       "      <td>-0.3801</td>\n",
       "      <td>0.5909</td>\n",
       "      <td>-0.4273</td>\n",
       "    </tr>\n",
       "    <tr>\n",
       "      <th>RM</th>\n",
       "      <td>-0.2192</td>\n",
       "      <td>0.3120</td>\n",
       "      <td>-0.3917</td>\n",
       "      <td>0.0913</td>\n",
       "      <td>-0.3022</td>\n",
       "      <td>1.0000</td>\n",
       "      <td>-0.2403</td>\n",
       "      <td>0.2052</td>\n",
       "      <td>-0.2098</td>\n",
       "      <td>-0.2920</td>\n",
       "      <td>-0.3555</td>\n",
       "      <td>0.1281</td>\n",
       "      <td>-0.6138</td>\n",
       "      <td>0.6954</td>\n",
       "    </tr>\n",
       "    <tr>\n",
       "      <th>AGE</th>\n",
       "      <td>0.3527</td>\n",
       "      <td>-0.5695</td>\n",
       "      <td>0.6448</td>\n",
       "      <td>0.0865</td>\n",
       "      <td>0.7315</td>\n",
       "      <td>-0.2403</td>\n",
       "      <td>1.0000</td>\n",
       "      <td>-0.7479</td>\n",
       "      <td>0.4560</td>\n",
       "      <td>0.5065</td>\n",
       "      <td>0.2615</td>\n",
       "      <td>-0.2735</td>\n",
       "      <td>0.6023</td>\n",
       "      <td>-0.3770</td>\n",
       "    </tr>\n",
       "    <tr>\n",
       "      <th>DIS</th>\n",
       "      <td>-0.3797</td>\n",
       "      <td>0.6644</td>\n",
       "      <td>-0.7080</td>\n",
       "      <td>-0.0992</td>\n",
       "      <td>-0.7692</td>\n",
       "      <td>0.2052</td>\n",
       "      <td>-0.7479</td>\n",
       "      <td>1.0000</td>\n",
       "      <td>-0.4946</td>\n",
       "      <td>-0.5344</td>\n",
       "      <td>-0.2325</td>\n",
       "      <td>0.2915</td>\n",
       "      <td>-0.4970</td>\n",
       "      <td>0.2499</td>\n",
       "    </tr>\n",
       "    <tr>\n",
       "      <th>RAD</th>\n",
       "      <td>0.6255</td>\n",
       "      <td>-0.3119</td>\n",
       "      <td>0.5951</td>\n",
       "      <td>-0.0074</td>\n",
       "      <td>0.6114</td>\n",
       "      <td>-0.2098</td>\n",
       "      <td>0.4560</td>\n",
       "      <td>-0.4946</td>\n",
       "      <td>1.0000</td>\n",
       "      <td>0.9102</td>\n",
       "      <td>0.4647</td>\n",
       "      <td>-0.4444</td>\n",
       "      <td>0.4887</td>\n",
       "      <td>-0.3816</td>\n",
       "    </tr>\n",
       "    <tr>\n",
       "      <th>TAX</th>\n",
       "      <td>0.5828</td>\n",
       "      <td>-0.3146</td>\n",
       "      <td>0.7208</td>\n",
       "      <td>-0.0356</td>\n",
       "      <td>0.6680</td>\n",
       "      <td>-0.2920</td>\n",
       "      <td>0.5065</td>\n",
       "      <td>-0.5344</td>\n",
       "      <td>0.9102</td>\n",
       "      <td>1.0000</td>\n",
       "      <td>0.4609</td>\n",
       "      <td>-0.4418</td>\n",
       "      <td>0.5440</td>\n",
       "      <td>-0.4685</td>\n",
       "    </tr>\n",
       "    <tr>\n",
       "      <th>PTRATIO</th>\n",
       "      <td>0.2899</td>\n",
       "      <td>-0.3917</td>\n",
       "      <td>0.3832</td>\n",
       "      <td>-0.1215</td>\n",
       "      <td>0.1889</td>\n",
       "      <td>-0.3555</td>\n",
       "      <td>0.2615</td>\n",
       "      <td>-0.2325</td>\n",
       "      <td>0.4647</td>\n",
       "      <td>0.4609</td>\n",
       "      <td>1.0000</td>\n",
       "      <td>-0.1774</td>\n",
       "      <td>0.3740</td>\n",
       "      <td>-0.5078</td>\n",
       "    </tr>\n",
       "    <tr>\n",
       "      <th>B</th>\n",
       "      <td>-0.3851</td>\n",
       "      <td>0.1755</td>\n",
       "      <td>-0.3570</td>\n",
       "      <td>0.0488</td>\n",
       "      <td>-0.3801</td>\n",
       "      <td>0.1281</td>\n",
       "      <td>-0.2735</td>\n",
       "      <td>0.2915</td>\n",
       "      <td>-0.4444</td>\n",
       "      <td>-0.4418</td>\n",
       "      <td>-0.1774</td>\n",
       "      <td>1.0000</td>\n",
       "      <td>-0.3661</td>\n",
       "      <td>0.3335</td>\n",
       "    </tr>\n",
       "    <tr>\n",
       "      <th>LSTAT</th>\n",
       "      <td>0.4556</td>\n",
       "      <td>-0.4130</td>\n",
       "      <td>0.6038</td>\n",
       "      <td>-0.0539</td>\n",
       "      <td>0.5909</td>\n",
       "      <td>-0.6138</td>\n",
       "      <td>0.6023</td>\n",
       "      <td>-0.4970</td>\n",
       "      <td>0.4887</td>\n",
       "      <td>0.5440</td>\n",
       "      <td>0.3740</td>\n",
       "      <td>-0.3661</td>\n",
       "      <td>1.0000</td>\n",
       "      <td>-0.7377</td>\n",
       "    </tr>\n",
       "    <tr>\n",
       "      <th>MEDV</th>\n",
       "      <td>-0.3883</td>\n",
       "      <td>0.3604</td>\n",
       "      <td>-0.4837</td>\n",
       "      <td>0.1753</td>\n",
       "      <td>-0.4273</td>\n",
       "      <td>0.6954</td>\n",
       "      <td>-0.3770</td>\n",
       "      <td>0.2499</td>\n",
       "      <td>-0.3816</td>\n",
       "      <td>-0.4685</td>\n",
       "      <td>-0.5078</td>\n",
       "      <td>0.3335</td>\n",
       "      <td>-0.7377</td>\n",
       "      <td>1.0000</td>\n",
       "    </tr>\n",
       "  </tbody>\n",
       "</table>\n",
       "</div>"
      ],
      "text/plain": [
       "           CRIM      ZN   INDUS    CHAS     NOX      RM     AGE     DIS  \\\n",
       "CRIM     1.0000 -0.2005  0.4066 -0.0559  0.4210 -0.2192  0.3527 -0.3797   \n",
       "ZN      -0.2005  1.0000 -0.5338 -0.0427 -0.5166  0.3120 -0.5695  0.6644   \n",
       "INDUS    0.4066 -0.5338  1.0000  0.0629  0.7637 -0.3917  0.6448 -0.7080   \n",
       "CHAS    -0.0559 -0.0427  0.0629  1.0000  0.0912  0.0913  0.0865 -0.0992   \n",
       "NOX      0.4210 -0.5166  0.7637  0.0912  1.0000 -0.3022  0.7315 -0.7692   \n",
       "RM      -0.2192  0.3120 -0.3917  0.0913 -0.3022  1.0000 -0.2403  0.2052   \n",
       "AGE      0.3527 -0.5695  0.6448  0.0865  0.7315 -0.2403  1.0000 -0.7479   \n",
       "DIS     -0.3797  0.6644 -0.7080 -0.0992 -0.7692  0.2052 -0.7479  1.0000   \n",
       "RAD      0.6255 -0.3119  0.5951 -0.0074  0.6114 -0.2098  0.4560 -0.4946   \n",
       "TAX      0.5828 -0.3146  0.7208 -0.0356  0.6680 -0.2920  0.5065 -0.5344   \n",
       "PTRATIO  0.2899 -0.3917  0.3832 -0.1215  0.1889 -0.3555  0.2615 -0.2325   \n",
       "B       -0.3851  0.1755 -0.3570  0.0488 -0.3801  0.1281 -0.2735  0.2915   \n",
       "LSTAT    0.4556 -0.4130  0.6038 -0.0539  0.5909 -0.6138  0.6023 -0.4970   \n",
       "MEDV    -0.3883  0.3604 -0.4837  0.1753 -0.4273  0.6954 -0.3770  0.2499   \n",
       "\n",
       "            RAD     TAX  PTRATIO       B   LSTAT    MEDV  \n",
       "CRIM     0.6255  0.5828   0.2899 -0.3851  0.4556 -0.3883  \n",
       "ZN      -0.3119 -0.3146  -0.3917  0.1755 -0.4130  0.3604  \n",
       "INDUS    0.5951  0.7208   0.3832 -0.3570  0.6038 -0.4837  \n",
       "CHAS    -0.0074 -0.0356  -0.1215  0.0488 -0.0539  0.1753  \n",
       "NOX      0.6114  0.6680   0.1889 -0.3801  0.5909 -0.4273  \n",
       "RM      -0.2098 -0.2920  -0.3555  0.1281 -0.6138  0.6954  \n",
       "AGE      0.4560  0.5065   0.2615 -0.2735  0.6023 -0.3770  \n",
       "DIS     -0.4946 -0.5344  -0.2325  0.2915 -0.4970  0.2499  \n",
       "RAD      1.0000  0.9102   0.4647 -0.4444  0.4887 -0.3816  \n",
       "TAX      0.9102  1.0000   0.4609 -0.4418  0.5440 -0.4685  \n",
       "PTRATIO  0.4647  0.4609   1.0000 -0.1774  0.3740 -0.5078  \n",
       "B       -0.4444 -0.4418  -0.1774  1.0000 -0.3661  0.3335  \n",
       "LSTAT    0.4887  0.5440   0.3740 -0.3661  1.0000 -0.7377  \n",
       "MEDV    -0.3816 -0.4685  -0.5078  0.3335 -0.7377  1.0000  "
      ]
     },
     "execution_count": 7,
     "metadata": {},
     "output_type": "execute_result"
    }
   ],
   "source": [
    "# Check the corr stat\n",
    "\n",
    "round((boston.corr()),4)"
   ]
  },
  {
   "cell_type": "code",
   "execution_count": 8,
   "id": "0ae17e15",
   "metadata": {},
   "outputs": [
    {
     "data": {
      "text/plain": [
       "Text(0.5, 1.0, 'CRIM relationship to MEDV')"
      ]
     },
     "execution_count": 8,
     "metadata": {},
     "output_type": "execute_result"
    },
    {
     "data": {
      "image/png": "[encoded data removed]",
      "text/plain": [
       "<Figure size 640x480 with 1 Axes>"
      ]
     },
     "metadata": {},
     "output_type": "display_data"
    }
   ],
   "source": [
    "import seaborn as sns\n",
    "plt.scatter(boston['CRIM'], boston['MEDV'])\n",
    "plt.xlabel(\"Crime rate\")\n",
    "plt.ylabel(\"MEDV\")\n",
    "plt.title(\"CRIM relationship to MEDV\")\n"
   ]
  },
  {
   "cell_type": "code",
   "execution_count": 9,
   "id": "f605aed9",
   "metadata": {},
   "outputs": [
    {
     "data": {
      "text/plain": [
       "<AxesSubplot:xlabel='TAX', ylabel='MEDV'>"
      ]
     },
     "execution_count": 9,
     "metadata": {},
     "output_type": "execute_result"
    },
    {
     "data": {
      "image/png": "[encoded data removed]",
      "text/plain": [
       "<Figure size 640x480 with 1 Axes>"
      ]
     },
     "metadata": {},
     "output_type": "display_data"
    }
   ],
   "source": [
    "# Linear regression line\n",
    "sns.regplot(x=\"TAX\", y= \"MEDV\", data = boston)"
   ]
  },
  {
   "cell_type": "code",
   "execution_count": 10,
   "id": "5b7c66ac",
   "metadata": {},
   "outputs": [],
   "source": [
    "# iNDEPENDENT AND DEPENDENT FEATURES\n",
    "\n",
    "X= boston.iloc[:,:-1] \n",
    "y=boston.iloc[:,-1]"
   ]
  },
  {
   "cell_type": "code",
   "execution_count": 11,
   "id": "b1bd2a0f",
   "metadata": {},
   "outputs": [],
   "source": [
    "# Train Test Split\n",
    "from sklearn.model_selection import train_test_split\n",
    "X_train,X_test,y_train,y_test = train_test_split(X,y,test_size=0.3, random_state=42)"
   ]
  },
  {
   "cell_type": "code",
   "execution_count": 12,
   "id": "44751614",
   "metadata": {},
   "outputs": [],
   "source": [
    "# standardise the dataset\n",
    "from sklearn.preprocessing import StandardScaler\n",
    "scaler = StandardScaler()"
   ]
  },
  {
   "cell_type": "code",
   "execution_count": 13,
   "id": "ec1fb22c",
   "metadata": {},
   "outputs": [],
   "source": [
    "X_train = scaler.fit_transform(X_train)\n",
    "X_test = scaler.transform(X_test)"
   ]
  },
  {
   "cell_type": "markdown",
   "id": "37de0ea0",
   "metadata": {},
   "source": [
    "# Model Training"
   ]
  },
  {
   "cell_type": "code",
   "execution_count": 14,
   "id": "8abf98a4",
   "metadata": {},
   "outputs": [],
   "source": [
    "from sklearn.linear_model import LinearRegression\n",
    "\n",
    "regression = LinearRegression()"
   ]
  },
  {
   "cell_type": "code",
   "execution_count": 15,
   "id": "e3e3fe45",
   "metadata": {},
   "outputs": [
    {
     "data": {
      "text/plain": [
       "LinearRegression()"
      ]
     },
     "execution_count": 15,
     "metadata": {},
     "output_type": "execute_result"
    }
   ],
   "source": [
    "regression.fit(X_train, y_train)"
   ]
  },
  {
   "cell_type": "code",
   "execution_count": 16,
   "id": "e3b6ee21",
   "metadata": {},
   "outputs": [
    {
     "name": "stdout",
     "output_type": "stream",
     "text": [
      "========== Regression Model Parameters ===========\n",
      "coefficients: [-1.10834602  0.80843998  0.34313466  0.81386426 -1.79804295  2.913858\n",
      " -0.29893918 -2.94251148  2.09419303 -1.44706731 -2.05232232  1.02375187\n",
      " -3.88579002]\n",
      "--------------------------------------------------\n",
      "intercept: 23.01581920903955\n"
     ]
    }
   ],
   "source": [
    "# check the coefficients and the intercept\n",
    "print(\" Regression Model Parameters \".center(50, \"=\"))\n",
    "print(f\"coefficients: {regression.coef_}\")\n",
    "print(\"-\" * 50)\n",
    "print(f\"intercept: {regression.intercept_}\")"
   ]
  },
  {
   "cell_type": "code",
   "execution_count": 17,
   "id": "14c0b77a",
   "metadata": {},
   "outputs": [
    {
     "data": {
      "text/plain": [
       "{'copy_X': True,\n",
       " 'fit_intercept': True,\n",
       " 'n_jobs': None,\n",
       " 'normalize': 'deprecated',\n",
       " 'positive': False}"
      ]
     },
     "execution_count": 17,
     "metadata": {},
     "output_type": "execute_result"
    }
   ],
   "source": [
    "# on which parameters the model has been trained\n",
    "regression.get_params()"
   ]
  },
  {
   "cell_type": "code",
   "execution_count": 18,
   "id": "75342243",
   "metadata": {},
   "outputs": [],
   "source": [
    "# Prediction with test data\n",
    "reg_pred = regression.predict(X_test)"
   ]
  },
  {
   "cell_type": "code",
   "execution_count": 19,
   "id": "8d877dea",
   "metadata": {},
   "outputs": [
    {
     "data": {
      "text/plain": [
       "array([28.64896005, 36.49501384, 15.4111932 , 25.40321303, 18.85527988,\n",
       "       23.14668944, 17.3921241 , 14.07859899, 23.03692679, 20.59943345,\n",
       "       24.82286159, 18.53057049, -6.86543527, 21.80172334, 19.22571177,\n",
       "       26.19191985, 20.27733882,  5.61596432, 40.44887974, 17.57695918,\n",
       "       27.44319095, 30.1715964 , 10.94055823, 24.02083139, 18.07693812,\n",
       "       15.934748  , 23.12614028, 14.56052142, 22.33482544, 19.3257627 ,\n",
       "       22.16564973, 25.19476081, 25.31372473, 18.51345025, 16.6223286 ,\n",
       "       17.50268505, 30.94992991, 20.19201752, 23.90440431, 24.86975466,\n",
       "       13.93767876, 31.82504715, 42.56978796, 17.62323805, 27.01963242,\n",
       "       17.19006621, 13.80594006, 26.10356557, 20.31516118, 30.08649576,\n",
       "       21.3124053 , 34.15739602, 15.60444981, 26.11247588, 39.31613646,\n",
       "       22.99282065, 18.95764781, 33.05555669, 24.85114223, 12.91729352,\n",
       "       22.68101452, 30.80336295, 31.63522027, 16.29833689, 21.07379993,\n",
       "       16.57699669, 20.36362023, 26.15615896, 31.06833034, 11.98679953,\n",
       "       20.42550472, 27.55676301, 10.94316981, 16.82660609, 23.92909733,\n",
       "        5.28065815, 21.43504661, 41.33684993, 18.22211675,  9.48269245,\n",
       "       21.19857446, 12.95001331, 21.64822797,  9.3845568 , 23.06060014,\n",
       "       31.95762512, 19.16662892, 25.59942257, 29.35043558, 20.13138581,\n",
       "       25.57297369,  5.42970803, 20.23169356, 15.1949595 , 14.03241742,\n",
       "       20.91078077, 24.82249135, -0.47712079, 13.70520524, 15.69525576,\n",
       "       22.06972676, 24.64152943, 10.7382866 , 19.68622564, 23.63678009,\n",
       "       12.07974981, 18.47894211, 25.52713393, 20.93461307, 24.6955941 ,\n",
       "        7.59054562, 19.01046053, 21.9444339 , 27.22319977, 32.18608828,\n",
       "       15.27826455, 34.39190421, 12.96314168, 21.01681316, 28.57880911,\n",
       "       15.86300844, 24.85124135,  3.37937111, 23.90465773, 25.81792146,\n",
       "       23.11020547, 25.33489201, 33.35545176, 20.60724498, 38.4772665 ,\n",
       "       13.97398533, 25.21923987, 17.80946626, 20.63437371,  9.80267398,\n",
       "       21.07953576, 22.3378417 , 32.32381854, 31.48694863, 15.46621287,\n",
       "       16.86242766, 28.99330526, 24.95467894, 16.73633557,  6.12858395,\n",
       "       26.65990044, 23.34007187, 17.40367164, 13.38594123, 39.98342478,\n",
       "       16.68286302, 18.28561759])"
      ]
     },
     "execution_count": 19,
     "metadata": {},
     "output_type": "execute_result"
    }
   ],
   "source": [
    "reg_pred"
   ]
  },
  {
   "cell_type": "markdown",
   "id": "0470d696",
   "metadata": {},
   "source": [
    "## Assumptions"
   ]
  },
  {
   "cell_type": "code",
   "execution_count": 20,
   "id": "4fb700cb",
   "metadata": {},
   "outputs": [
    {
     "data": {
      "text/plain": [
       "Text(0, 0.5, 'Prediction')"
      ]
     },
     "execution_count": 20,
     "metadata": {},
     "output_type": "execute_result"
    },
    {
     "data": {
      "image/png": "[encoded data removed]",
      "text/plain": [
       "<Figure size 640x480 with 1 Axes>"
      ]
     },
     "metadata": {},
     "output_type": "display_data"
    }
   ],
   "source": [
    "# plot a scatter chart for the prediction\n",
    "plt.scatter(y_test, reg_pred)\n",
    "plt.xlabel(\"Y_test\")\n",
    "plt.ylabel(\"Prediction\")"
   ]
  },
  {
   "cell_type": "code",
   "execution_count": 21,
   "id": "ae1b2d2f",
   "metadata": {},
   "outputs": [
    {
     "data": {
      "application/vnd.microsoft.datawrangler.viewer.v0+json": {
       "columns": [
        {
         "name": "index",
         "rawType": "int64",
         "type": "integer"
        },
        {
         "name": "MEDV",
         "rawType": "float64",
         "type": "float"
        }
       ],
       "ref": "67f9b1cd-9e8b-4b12-b694-189f49f89cb1",
       "rows": [
        [
         "173",
         "-5.04896004632414"
        ],
        [
         "274",
         "-4.095013843487045"
        ],
        [
         "491",
         "-1.811193199203542"
        ],
        [
         "72",
         "-2.6032130337789248"
        ],
        [
         "452",
         "-2.7552798756006176"
        ],
        [
         "76",
         "-3.146689436193661"
        ],
        [
         "316",
         "0.4078759017851006"
        ],
        [
         "140",
         "-0.07859899000644077"
        ],
        [
         "471",
         "-3.4369267915697073"
        ],
        [
         "500",
         "-3.799433447503162"
        ],
        [
         "218",
         "-3.3228615923288096"
        ],
        [
         "9",
         "0.36942951062571794"
        ],
        [
         "414",
         "13.865435269906698"
        ],
        [
         "78",
         "-0.6017233423184791"
        ],
        [
         "323",
         "-0.7257117723470152"
        ],
        [
         "473",
         "3.608080154030194"
        ],
        [
         "124",
         "-1.4773388237303706"
        ],
        [
         "388",
         "4.584035677005648"
        ],
        [
         "195",
         "9.55112026486833"
        ],
        [
         "448",
         "-3.4769591828785575"
        ],
        [
         "271",
         "-2.2431909488118293"
        ],
        [
         "278",
         "-1.0715964004330445"
        ],
        [
         "30",
         "1.7594417747883142"
        ],
        [
         "501",
         "-1.6208313864792103"
        ],
        [
         "421",
         "-3.876938123605356"
        ],
        [
         "474",
         "-2.134748004872108"
        ],
        [
         "79",
         "-2.8261402779811675"
        ],
        [
         "454",
         "0.33947857832668227"
        ],
        [
         "210",
         "-0.6348254358594048"
        ],
        [
         "497",
         "-1.0257626972096467"
        ],
        [
         "172",
         "0.9343502674684387"
        ],
        [
         "320",
         "-1.3947608085607506"
        ],
        [
         "375",
         "-10.313724726300396"
        ],
        [
         "362",
         "2.2865497485148403"
        ],
        [
         "467",
         "2.4776714006188385"
        ],
        [
         "153",
         "1.897314947813225"
        ],
        [
         "2",
         "3.7500700914483396"
        ],
        [
         "336",
         "-0.6920175240056068"
        ],
        [
         "208",
         "0.4955956916541737"
        ],
        [
         "73",
         "-1.4697546643316457"
        ],
        [
         "496",
         "5.762321236482176"
        ],
        [
         "307",
         "-3.6250471508698467"
        ],
        [
         "204",
         "7.430212037450346"
        ],
        [
         "68",
         "-0.22323805388023743"
        ],
        [
         "90",
         "-4.419632416211847"
        ],
        [
         "390",
         "-2.0900662063510485"
        ],
        [
         "33",
         "-0.7059400569681795"
        ],
        [
         "70",
         "-1.9035655669902347"
        ],
        [
         "470",
         "-0.4151611777662083"
        ],
        [
         "0",
         "-6.08649576098529"
        ]
       ],
       "shape": {
        "columns": 1,
        "rows": 152
       }
      },
      "text/plain": [
       "173    -5.048960\n",
       "274    -4.095014\n",
       "491    -1.811193\n",
       "72     -2.603213\n",
       "452    -2.755280\n",
       "         ...    \n",
       "441    -0.303672\n",
       "23      1.114059\n",
       "225    10.016575\n",
       "433    -2.382863\n",
       "447    -5.685618\n",
       "Name: MEDV, Length: 152, dtype: float64"
      ]
     },
     "execution_count": 21,
     "metadata": {},
     "output_type": "execute_result"
    }
   ],
   "source": [
    "# check for the residuals\n",
    "residuals = y_test-reg_pred\n",
    "residuals"
   ]
  },
  {
   "cell_type": "code",
   "execution_count": 22,
   "id": "75044817",
   "metadata": {},
   "outputs": [
    {
     "data": {
      "text/plain": [
       "<seaborn.axisgrid.FacetGrid at 0x1d93fb0ef08>"
      ]
     },
     "execution_count": 22,
     "metadata": {},
     "output_type": "execute_result"
    },
    {
     "data": {
      "image/png": "[encoded data removed]",
      "text/plain": [
       "<Figure size 500x500 with 1 Axes>"
      ]
     },
     "metadata": {},
     "output_type": "display_data"
    }
   ],
   "source": [
    "# plot the residuals\n",
    "sns.displot(residuals, kind=\"kde\", fill=True)"
   ]
  },
  {
   "cell_type": "code",
   "execution_count": 23,
   "id": "939de29b",
   "metadata": {},
   "outputs": [
    {
     "data": {
      "text/plain": [
       "<matplotlib.collections.PathCollection at 0x1d93fad9908>"
      ]
     },
     "execution_count": 23,
     "metadata": {},
     "output_type": "execute_result"
    },
    {
     "data": {
      "image/png": "[encoded data removed]",
      "text/plain": [
       "<Figure size 640x480 with 1 Axes>"
      ]
     },
     "metadata": {},
     "output_type": "display_data"
    }
   ],
   "source": [
    "# scatter plot with respect to prediction and residuals\n",
    "plt.scatter(reg_pred,residuals)"
   ]
  },
  {
   "cell_type": "markdown",
   "id": "cf45174c",
   "metadata": {},
   "source": [
    "The chart shows a uniform distribution"
   ]
  },
  {
   "cell_type": "code",
   "execution_count": 24,
   "id": "7699715c",
   "metadata": {},
   "outputs": [
    {
     "name": "stdout",
     "output_type": "stream",
     "text": [
      "MAE: 3.162709871457406\n",
      "MSE: 21.51744423117721\n",
      "RMSE: 4.6386899261728205\n"
     ]
    }
   ],
   "source": [
    "from sklearn.metrics import mean_absolute_error, mean_squared_error\n",
    "import numpy as np\n",
    "\n",
    "print(f\"MAE: {mean_absolute_error(y_test, reg_pred)}\")\n",
    "print(f\"MSE: {mean_squared_error(y_test, reg_pred)}\")\n",
    "print(f\"RMSE: {np.sqrt(mean_squared_error(y_test, reg_pred))}\")\n"
   ]
  },
  {
   "cell_type": "markdown",
   "id": "725043be",
   "metadata": {},
   "source": [
    "# R² (Coefficient of Determination) and Adjusted R²\n",
    "\n",
    "Formula:\n",
    "\n",
    "**R² = 1 - (SSR / SST)**\n",
    "\n",
    "Where:\n",
    "R²   = Coefficient of determination\n",
    "\n",
    "SSR  = Sum of Squares of Residuals (also called SSE: Sum of Squared Errors)\n",
    "\n",
    "SST  = Total Sum of Squares (total variance in the data)"
   ]
  },
  {
   "cell_type": "code",
   "execution_count": 25,
   "id": "639b746a",
   "metadata": {},
   "outputs": [
    {
     "data": {
      "text/plain": [
       "0.7112260057484932"
      ]
     },
     "execution_count": 25,
     "metadata": {},
     "output_type": "execute_result"
    }
   ],
   "source": [
    "from sklearn.metrics import r2_score\n",
    "score = r2_score(y_test, reg_pred)\n",
    "score"
   ]
  },
  {
   "cell_type": "markdown",
   "id": "d324edec",
   "metadata": {},
   "source": [
    "## Adjusted R² (Adjusted Coefficient of Determination)\n",
    "\n",
    "**Adjusted R²** adjusts the regular R² to account for the number of predictors in your model. It penalizes the addition of irrelevant variables.\n",
    "\n",
    "Formula:\n",
    "\n",
    "Adjusted R^2 = 1 - [(1 - R^2)*(n - 1)/(n - k - 1)]\n",
    "\n",
    "Where:\n",
    "- \\( R^2 \\) = Regular coefficient of determination  \n",
    "- \\( n \\) = Number of observations (rows)  \n",
    "- \\( k \\) = Number of predictors (independent variables)\n"
   ]
  },
  {
   "cell_type": "code",
   "execution_count": 26,
   "id": "6c4e92eb",
   "metadata": {},
   "outputs": [
    {
     "data": {
      "text/plain": [
       "0.6840226584639308"
      ]
     },
     "execution_count": 26,
     "metadata": {},
     "output_type": "execute_result"
    }
   ],
   "source": [
    "# prin the adjusted R-squared\n",
    "1- (1-score)*(len(y_test)-1)/(len(y_test)-X_test.shape[1]-1)"
   ]
  },
  {
   "cell_type": "markdown",
   "id": "9ec023c6",
   "metadata": {},
   "source": [
    "## New data Prediction"
   ]
  },
  {
   "cell_type": "code",
   "execution_count": 27,
   "id": "b3c6c64d",
   "metadata": {},
   "outputs": [
    {
     "data": {
      "text/plain": [
       "(1, 13)"
      ]
     },
     "execution_count": 27,
     "metadata": {},
     "output_type": "execute_result"
    }
   ],
   "source": [
    "X.iloc[0].values.reshape(1, -1).shape"
   ]
  },
  {
   "cell_type": "code",
   "execution_count": 28,
   "id": "3d43dc6c",
   "metadata": {},
   "outputs": [
    {
     "data": {
      "text/plain": [
       "array([[6.320e-03, 1.800e+01, 2.310e+00, 0.000e+00, 5.380e-01, 6.575e+00,\n",
       "        6.520e+01, 4.090e+00, 1.000e+00, 2.960e+02, 1.530e+01, 3.969e+02,\n",
       "        4.980e+00]])"
      ]
     },
     "execution_count": 28,
     "metadata": {},
     "output_type": "execute_result"
    }
   ],
   "source": [
    "# First row's data\n",
    "X.iloc[0].values.reshape(1, -1)"
   ]
  },
  {
   "cell_type": "markdown",
   "id": "31693af1",
   "metadata": {},
   "source": [
    "scaler the new data for prediction"
   ]
  },
  {
   "cell_type": "code",
   "execution_count": 29,
   "id": "80f83278",
   "metadata": {},
   "outputs": [
    {
     "name": "stderr",
     "output_type": "stream",
     "text": [
      "c:\\Users\\zeid9\\Documents\\Boston\\Boston-MEDV-House-Prediction\\venv\\lib\\site-packages\\sklearn\\base.py:451: UserWarning: X does not have valid feature names, but StandardScaler was fitted with feature names\n",
      "  \"X does not have valid feature names, but\"\n"
     ]
    },
    {
     "data": {
      "text/plain": [
       "array([30.08649576])"
      ]
     },
     "execution_count": 29,
     "metadata": {},
     "output_type": "execute_result"
    }
   ],
   "source": [
    "X_new = scaler.transform(X.iloc[0].values.reshape(1, -1))\n",
    "regression.predict(X_new)"
   ]
  },
  {
   "cell_type": "markdown",
   "id": "384969d8",
   "metadata": {},
   "source": [
    "# pickling the model file for deployment"
   ]
  },
  {
   "cell_type": "code",
   "execution_count": 30,
   "id": "fd2b98f2",
   "metadata": {},
   "outputs": [],
   "source": [
    "import pickle\n",
    "pickle.dump(regression, open(\"regression_model.pkl\", \"wb\"))\n",
    "pickle.dump(scaler,open('scaling.pkl','wb'))"
   ]
  }
 ],
 "metadata": {
  "kernelspec": {
   "display_name": "venv",
   "language": "python",
   "name": "python3"
  },
  "language_info": {
   "codemirror_mode": {
    "name": "ipython",
    "version": 3
   },
   "file_extension": ".py",
   "mimetype": "text/x-python",
   "name": "python",
   "nbconvert_exporter": "python",
   "pygments_lexer": "ipython3",
   "version": "3.7.9"
  }
 },
 "nbformat": 4,
 "nbformat_minor": 5
}
